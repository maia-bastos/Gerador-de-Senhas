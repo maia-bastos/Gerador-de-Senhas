{
 "cells": [
  {
   "cell_type": "markdown",
   "id": "74b1c214-34d8-43a1-867b-1055887eca93",
   "metadata": {},
   "source": [
    "Escreva um programa que gere uma senha aleatória com um determinado comprimento. A senha deve conter uma mistura de letras, números e caracteres especiais. O comprimento da senha deve ser fornecido pelo usuário. Se o comprimento for menor que 4, imprima uma mensagem de erro e peça ao usuário para fornecer um novo comprimento.\n",
    "\n",
    "A senha deve ser aleatória, então cada vez que o usuário executar o programa, uma nova senha deve ser gerada. Obrigatoriamente, a senha deve conter pelo menos uma letra, um número e um caractere especial. A senha não pode conter espaços em branco.\n",
    "\n",
    "O programa deve conter uma função chamada `gerar_senha` que recebe o comprimento da senha como parâmetro e retorna a senha gerada. Se o comprimento for inválido, a função deve retornar None.\n",
    "\n",
    "Exemplo de saída:\n",
    "\n",
    "```\n",
    "Digite o comprimento da senha: 10\n",
    "8Zn$*2q9X\n",
    "```\n",
    "\n",
    "- Dica: use a biblioteca random e a função shuffle para embaralhar os caracteres da senha.\n",
    "- Dica: use a função choice, dessa mesma biblioteca, para escolher um caractere aleatório de uma string.\n",
    "- Dica: use a biblioteca string para obter uma lista de caracteres válidos para a senha."
   ]
  },
  {
   "cell_type": "code",
   "execution_count": 2,
   "id": "4f0f1904",
   "metadata": {},
   "outputs": [],
   "source": [
    "import string\n",
    "import random"
   ]
  },
  {
   "cell_type": "code",
   "execution_count": 65,
   "id": "38d14542",
   "metadata": {},
   "outputs": [],
   "source": [
    "num = string.digits\n",
    "letra = string.ascii_letters\n",
    "carac_especial = string.punctuation\n",
    "caracteres = num + letra"
   ]
  },
  {
   "cell_type": "code",
   "execution_count": 70,
   "id": "053dd155",
   "metadata": {},
   "outputs": [
    {
     "name": "stdout",
     "output_type": "stream",
     "text": [
      "Insira o tamanho da senha: 10\n",
      "['(', 'B', 'd', 'y', 'Y', 'i', 'G', '4', 'd', '6']\n",
      "['(', 'B', 'd', '4', 'G', 'd', 'Y', '6', 'i', 'y']\n"
     ]
    }
   ],
   "source": [
    "senha = []\n",
    "while True: \n",
    "    tamanho = int(input(\"Insira o tamanho da senha: \"))\n",
    "    if tamanho > 4:\n",
    "        escolha = random.choice(carac_especial)\n",
    "        senha.append(escolha)\n",
    "        for i in range(tamanho-1):\n",
    "            escolha = random.choice(caracteres)\n",
    "            senha.append(escolha)\n",
    "        break\n",
    "\n",
    "    else:\n",
    "        senha = [\n",
    "\n",
    "        ]\n",
    "        print(\"O comprimento da senha deve ser maior do que 4.\", \"/n\", senha)\n",
    "        continue\n",
    "\n",
    "print(senha)\n",
    "random.shuffle(senha)\n",
    "print(senha)"
   ]
  },
  {
   "cell_type": "code",
   "execution_count": 72,
   "id": "747da518",
   "metadata": {},
   "outputs": [
    {
     "data": {
      "text/plain": [
       "'(Bd4GdY6iy'"
      ]
     },
     "execution_count": 72,
     "metadata": {},
     "output_type": "execute_result"
    }
   ],
   "source": [
    "''.join(senha)"
   ]
  },
  {
   "cell_type": "code",
   "execution_count": null,
   "id": "67b2fd03",
   "metadata": {},
   "outputs": [],
   "source": []
  }
 ],
 "metadata": {
  "kernelspec": {
   "display_name": "Python 3 (ipykernel)",
   "language": "python",
   "name": "python3"
  },
  "language_info": {
   "codemirror_mode": {
    "name": "ipython",
    "version": 3
   },
   "file_extension": ".py",
   "mimetype": "text/x-python",
   "name": "python",
   "nbconvert_exporter": "python",
   "pygments_lexer": "ipython3",
   "version": "3.11.5"
  }
 },
 "nbformat": 4,
 "nbformat_minor": 5
}
